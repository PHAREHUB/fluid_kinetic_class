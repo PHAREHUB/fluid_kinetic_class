{
 "cells": [
  {
   "cell_type": "markdown",
   "id": "3d01e2c6-407b-464b-8b20-a4af86a12b42",
   "metadata": {},
   "source": [
    "Ion Beam\n",
    "========"
   ]
  },
  {
   "cell_type": "code",
   "execution_count": 1,
   "id": "96de09a2-e7f0-4d05-aae1-fd29eccdf50a",
   "metadata": {
    "execution": {
     "iopub.execute_input": "2024-05-23T13:26:27.869388Z",
     "iopub.status.busy": "2024-05-23T13:26:27.868953Z",
     "iopub.status.idle": "2024-05-23T13:26:28.292859Z",
     "shell.execute_reply": "2024-05-23T13:26:28.292175Z",
     "shell.execute_reply.started": "2024-05-23T13:26:27.869355Z"
    }
   },
   "outputs": [],
   "source": [
    "import os\n",
    "import sys\n",
    "phare_root = os.path.expanduser(\"~/codes/far/PHARE/\")\n",
    "sys.path.append(os.path.join(phare_root, \"pyphare\"))\n",
    "from pyphare.pharesee.run import Run"
   ]
  },
  {
   "cell_type": "code",
   "execution_count": 2,
   "id": "ccb6846a-9a86-4243-bdf6-307015c5baf9",
   "metadata": {
    "execution": {
     "iopub.execute_input": "2024-05-23T13:26:28.971155Z",
     "iopub.status.busy": "2024-05-23T13:26:28.970829Z",
     "iopub.status.idle": "2024-05-23T13:26:28.973866Z",
     "shell.execute_reply": "2024-05-23T13:26:28.973400Z",
     "shell.execute_reply.started": "2024-05-23T13:26:28.971138Z"
    }
   },
   "outputs": [],
   "source": [
    "import logging\n",
    "logging.getLogger().setLevel(logging.INFO)"
   ]
  },
  {
   "cell_type": "code",
   "execution_count": 3,
   "id": "60c4a2f2-019b-4a6a-8c4b-9956db274acd",
   "metadata": {
    "execution": {
     "iopub.execute_input": "2024-05-23T13:26:29.731775Z",
     "iopub.status.busy": "2024-05-23T13:26:29.731466Z",
     "iopub.status.idle": "2024-05-23T13:26:30.163921Z",
     "shell.execute_reply": "2024-05-23T13:26:30.163365Z",
     "shell.execute_reply.started": "2024-05-23T13:26:29.731757Z"
    }
   },
   "outputs": [],
   "source": [
    "import matplotlib.pyplot as plt\n",
    "import numpy as np\n",
    "from scipy.ndimage import gaussian_filter1d as gf\n",
    "from numpy import polyfit\n",
    "from scipy.signal import find_peaks\n",
    "%matplotlib widget"
   ]
  },
  {
   "cell_type": "code",
   "execution_count": 4,
   "id": "49ec1fae-185a-4dc1-a2b0-48f313078e5c",
   "metadata": {
    "execution": {
     "iopub.execute_input": "2024-05-23T13:26:30.490469Z",
     "iopub.status.busy": "2024-05-23T13:26:30.490164Z",
     "iopub.status.idle": "2024-05-23T13:26:30.492391Z",
     "shell.execute_reply": "2024-05-23T13:26:30.491990Z",
     "shell.execute_reply.started": "2024-05-23T13:26:30.490455Z"
    }
   },
   "outputs": [],
   "source": [
    "root_path = \"/home/smets/FluKi/2024/run/beam\""
   ]
  },
  {
   "cell_type": "code",
   "execution_count": 6,
   "id": "adf98f47-4ac4-40ce-82e9-2afff2ddace0",
   "metadata": {
    "execution": {
     "iopub.execute_input": "2024-05-23T13:47:37.379838Z",
     "iopub.status.busy": "2024-05-23T13:47:37.379435Z",
     "iopub.status.idle": "2024-05-23T13:47:37.382606Z",
     "shell.execute_reply": "2024-05-23T13:47:37.382217Z",
     "shell.execute_reply.started": "2024-05-23T13:47:37.379820Z"
    }
   },
   "outputs": [],
   "source": [
    "path = root_path+\"/\"+\"ib1\"\n",
    "r = Run(path)"
   ]
  },
  {
   "cell_type": "code",
   "execution_count": 8,
   "id": "84e72e22-7de9-4ee3-9376-8aa8e0830229",
   "metadata": {
    "execution": {
     "iopub.execute_input": "2024-05-23T13:47:44.816876Z",
     "iopub.status.busy": "2024-05-23T13:47:44.816459Z",
     "iopub.status.idle": "2024-05-23T13:47:44.870052Z",
     "shell.execute_reply": "2024-05-23T13:47:44.869507Z",
     "shell.execute_reply.started": "2024-05-23T13:47:44.816858Z"
    }
   },
   "outputs": [],
   "source": [
    "time=0\n",
    "main = r.GetParticles(time, [\"main\",])"
   ]
  },
  {
   "cell_type": "code",
   "execution_count": 10,
   "id": "59da963a-b0e0-4da9-b9fc-48dfd74bef4b",
   "metadata": {
    "execution": {
     "iopub.execute_input": "2024-05-23T13:48:24.633040Z",
     "iopub.status.busy": "2024-05-23T13:48:24.632536Z",
     "iopub.status.idle": "2024-05-23T13:48:24.636575Z",
     "shell.execute_reply": "2024-05-23T13:48:24.636040Z",
     "shell.execute_reply.started": "2024-05-23T13:48:24.633019Z"
    }
   },
   "outputs": [
    {
     "name": "stdout",
     "output_type": "stream",
     "text": [
      "<class 'pyphare.pharesee.hierarchy.PatchHierarchy'>\n"
     ]
    }
   ],
   "source": [
    "print(type(main))"
   ]
  },
  {
   "cell_type": "code",
   "execution_count": null,
   "id": "5302e2a5-8a5e-46b5-bf7d-8903a806bddf",
   "metadata": {},
   "outputs": [],
   "source": [
    "# zob = main.dist_plot()"
   ]
  },
  {
   "cell_type": "code",
   "execution_count": 13,
   "id": "221287d6-fb04-4a5a-b5fe-b93b8b2d4e19",
   "metadata": {
    "execution": {
     "iopub.execute_input": "2024-05-23T14:17:35.722821Z",
     "iopub.status.busy": "2024-05-23T14:17:35.722298Z",
     "iopub.status.idle": "2024-05-23T14:17:35.729820Z",
     "shell.execute_reply": "2024-05-23T14:17:35.729330Z",
     "shell.execute_reply.started": "2024-05-23T14:17:35.722802Z"
    }
   },
   "outputs": [],
   "source": [
    "def new_dist_plot(self, **kwargs):\n",
    "    \"\"\"\n",
    "    plot phase space of a particle hierarchy\n",
    "    \"\"\"\n",
    "    import copy\n",
    "\n",
    "    # from .plotting import dist_plot as dp\n",
    "    from pyphare.pharesee.plotting import dist_plot as dp\n",
    "\n",
    "    usr_lvls = kwargs.get(\"levels\", (0,))\n",
    "    finest = kwargs.get(\"finest\", False)\n",
    "    pops = kwargs.get(\"pop\", [])\n",
    "    time = kwargs.get(\"time\", self.times()[0])\n",
    "    axis = kwargs.get(\"axis\", (\"Vx\", \"Vy\"))\n",
    "    all_pops = list(self.level(0, time).patches[0].patch_datas.keys())\n",
    "\n",
    "    vmin = kwargs.get(\"vmin\", -2)\n",
    "    vmax = kwargs.get(\"vmax\", 2)\n",
    "    dv = kwargs.get(\"dv\", 0.05)\n",
    "    vbins = vmin + dv * np.arange(int((vmax - vmin) / dv))\n",
    "\n",
    "    if finest:\n",
    "        final = finest_part_data(self)\n",
    "        if axis[0] == \"x\":\n",
    "            xbins = amr_grid(self, time)\n",
    "            bins = (xbins, vbins)\n",
    "        else:\n",
    "            bins = (vbins, vbins)\n",
    "        kwargs[\"bins\"] = bins\n",
    "\n",
    "    else:\n",
    "        final = {pop: None for pop in all_pops}\n",
    "        for lvl_nbr, level in self.levels(time).items():\n",
    "            if lvl_nbr not in usr_lvls:\n",
    "                continue\n",
    "            for ip, patch in enumerate(level.patches):\n",
    "                if len(pops) == 0:\n",
    "                    pops = list(patch.patch_datas.keys())\n",
    "\n",
    "                for pop in pops:\n",
    "                    tmp = copy.copy(patch.patch_datas[pop].dataset)\n",
    "\n",
    "                    if final[pop] is None:\n",
    "                        final[pop] = tmp\n",
    "                    else:\n",
    "                        final[pop].add(tmp)\n",
    "\n",
    "    # select particles\n",
    "    if \"select\" in kwargs:\n",
    "        for pop, particles in final.items():\n",
    "            final[pop] = kwargs[\"select\"](particles)\n",
    "\n",
    "    return final, dp(final, **kwargs)"
   ]
  },
  {
   "cell_type": "code",
   "execution_count": 15,
   "id": "1a45915a-9724-41a1-aafc-e69e18a22a24",
   "metadata": {
    "execution": {
     "iopub.execute_input": "2024-05-23T14:18:08.411049Z",
     "iopub.status.busy": "2024-05-23T14:18:08.410523Z",
     "iopub.status.idle": "2024-05-23T14:18:08.580104Z",
     "shell.execute_reply": "2024-05-23T14:18:08.579685Z",
     "shell.execute_reply.started": "2024-05-23T14:18:08.411025Z"
    }
   },
   "outputs": [
    {
     "data": {
      "application/vnd.jupyter.widget-view+json": {
       "model_id": "9cef8e69f0e74ccf88850f31b2092524",
       "version_major": 2,
       "version_minor": 0
      },
      "image/png": "[encoded data removed]",
      "text/html": [
       "\n",
       "            <div style=\"display: inline-block;\">\n",
       "                <div class=\"jupyter-widgets widget-label\" style=\"text-align: center;\">\n",
       "                    Figure\n",
       "                </div>\n",
       "                <img src='data:image/png;base64,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' width=640.0/>\n",
       "            </div>\n",
       "        "
      ],
      "text/plain": [
       "Canvas(toolbar=Toolbar(toolitems=[('Home', 'Reset original view', 'home', 'home'), ('Back', 'Back to previous …"
      ]
     },
     "metadata": {},
     "output_type": "display_data"
    }
   ],
   "source": [
    "zob = new_dist_plot(main, axis=(\"x\", \"Vx\"))"
   ]
  },
  {
   "cell_type": "code",
   "execution_count": 18,
   "id": "3aed499a-8759-45c5-b0b9-7618da5e1197",
   "metadata": {
    "execution": {
     "iopub.execute_input": "2024-05-23T14:19:33.874040Z",
     "iopub.status.busy": "2024-05-23T14:19:33.873625Z",
     "iopub.status.idle": "2024-05-23T14:19:33.886732Z",
     "shell.execute_reply": "2024-05-23T14:19:33.886226Z",
     "shell.execute_reply.started": "2024-05-23T14:19:33.874023Z"
    }
   },
   "outputs": [
    {
     "ename": "TypeError",
     "evalue": "tuple indices must be integers or slices, not str",
     "output_type": "error",
     "traceback": [
      "\u001b[0;31m---------------------------------------------------------------------------\u001b[0m",
      "\u001b[0;31mTypeError\u001b[0m                                 Traceback (most recent call last)",
      "Cell \u001b[0;32mIn[18], line 1\u001b[0m\n\u001b[0;32m----> 1\u001b[0m \u001b[38;5;28mprint\u001b[39m(\u001b[43mzob\u001b[49m\u001b[43m[\u001b[49m\u001b[38;5;124;43m\"\u001b[39;49m\u001b[38;5;124;43mmain_domain\u001b[39;49m\u001b[38;5;124;43m\"\u001b[39;49m\u001b[43m]\u001b[49m)\n",
      "\u001b[0;31mTypeError\u001b[0m: tuple indices must be integers or slices, not str"
     ]
    }
   ],
   "source": [
    "print(zob.get(\"main_domain\"])"
   ]
  },
  {
   "cell_type": "code",
   "execution_count": null,
   "id": "91d7f3a2-bdc2-47c4-8ffe-01f1742f96d4",
   "metadata": {},
   "outputs": [],
   "source": []
  }
 ],
 "metadata": {
  "kernelspec": {
   "display_name": "hpc/python3",
   "language": "python",
   "name": "conda-env-hpc-py"
  },
  "language_info": {
   "codemirror_mode": {
    "name": "ipython",
    "version": 3
   },
   "file_extension": ".py",
   "mimetype": "text/x-python",
   "name": "python",
   "nbconvert_exporter": "python",
   "pygments_lexer": "ipython3",
   "version": "3.10.13"
  }
 },
 "nbformat": 4,
 "nbformat_minor": 5
}
