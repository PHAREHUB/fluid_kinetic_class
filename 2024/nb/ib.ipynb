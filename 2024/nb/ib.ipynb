{
 "cells": [
  {
   "cell_type": "markdown",
   "id": "3d01e2c6-407b-464b-8b20-a4af86a12b42",
   "metadata": {},
   "source": [
    "Ion Beam\n",
    "========"
   ]
  },
  {
   "cell_type": "markdown",
   "id": "665d9143-a4c2-46bd-95cd-7ffc3d24c27f",
   "metadata": {},
   "source": [
    "In this notebook, we address the question of the stability of two populations of protons streaming one respect to the other along the local magnetic ﬁeld, a situation often encountered in collisionless plasmas. As we shall see, nature and strength of the instability varies with the plasma parameters (density, magnetic ﬁeld strength, relative velocity, temperature, ...).\n",
    "\n",
    "In general, an instability arises if a mode exists with phase speed such as to be able\n",
    "to increase its amplitude by taking the kinetic energy from the beam particles. For\n",
    "this to happen, phase velocity and beam velocity must be quasi-equal in which case\n",
    "the mode is said to resonates with the beam."
   ]
  },
  {
   "cell_type": "code",
   "execution_count": 11,
   "id": "bad2465c-6541-486b-93e1-a31ef6ca683a",
   "metadata": {},
   "outputs": [],
   "source": [
    "root_path  = \"/home/user/PHARE/fluid_kinetic_class/2024/run/beam\"\n",
    "phare_path = \"/home/user/PHARE/\""
   ]
  },
  {
   "cell_type": "code",
   "execution_count": 12,
   "id": "ddd456c0-d508-45a5-8fd0-91e15bcf25d9",
   "metadata": {},
   "outputs": [],
   "source": [
    "import os\n",
    "import sys\n",
    "phare_root = os.path.expanduser(phare_path)\n",
    "sys.path.append(os.path.join(phare_root, \"pyphare\"))\n",
    "\n",
    "from pyphare.pharesee.run import Run\n",
    "import matplotlib.pyplot as plt\n",
    "import numpy as np\n",
    "from scipy.ndimage import gaussian_filter1d as gf\n",
    "from numpy import polyfit\n",
    "from scipy.signal import find_peaks\n",
    "%matplotlib widget"
   ]
  },
  {
   "cell_type": "markdown",
   "id": "d5d29f37-c2de-4e82-b5a6-832d83c913f4",
   "metadata": {},
   "source": [
    "# Electrostatic case"
   ]
  },
  {
   "cell_type": "markdown",
   "id": "75b5c405-3aaf-4d9b-8f7d-ea03b60f3488",
   "metadata": {},
   "source": [
    "A particular example of beam instability is the one involving the ion-acoustic mode. This mode is a plasma equivalent of the standard acoustic mode in a compressible gas. Its phase speed is\n",
    "\n",
    "$$\n",
    "\\left(\\frac{\\omega}{k} \\right)^2 = c_s^2 = \\frac{T_e + 3T_p}{m_p}\n",
    "$$\n",
    "\n",
    "in a proton-electron plasma. The very fact that the phase speed does not depend on the magnetic ﬁeld, suggest that the mode is a purely electrostatic one, not associated with ﬂuctuations of the magnetic ﬁeld. As already anticipated a beam of protons is potentially\n",
    "unstable if the phase speed of a plasma mode is roughly the same as the beam velocity. To be more precise, a mode can grow (and be unstable) if its phase speed falls in the velocity interval where the slope of the beam distribution function is positive as shown in the next ﬁgure for the case of the ion acoustic mode with phasespeed $\\omega/k = c_s$."
   ]
  },
  {
   "cell_type": "markdown",
   "id": "08f3615f-72c9-4375-8507-9e16918ecff3",
   "metadata": {},
   "source": [
    "For this first electrostatic case, we consider 2 ion populations that we call `main' and ``beam` :\n",
    "* for the `main` population, $n_m = 1.0$, $U_m = 0.0$ and $T_m = 0.025$\n",
    "* for the `beam` population, $n_b = 0.1$, $U_b = 0.7$ and $T_b = 0.025$"
   ]
  },
  {
   "cell_type": "markdown",
   "id": "031ebe12-f765-48dc-9e35-032b9fbe6eb4",
   "metadata": {},
   "source": [
    "The density and pressure of the beam are 0.1 of the values in the main which implies that the ion acoustic propagation speed is essentially given by the main plasma, i.e. $c_s = \\sqrt{}T_e + 3 T_m \\sim 0.57$"
   ]
  },
  {
   "cell_type": "markdown",
   "id": "37789f83-6035-493a-b8f7-979f20a8f807",
   "metadata": {},
   "source": [
    "Note that in the simulation (in order to improve statistics for the beam particles) the same number of particles has been used for core and beam. Given that $n_b / n_m = 0.1$, the statistical weight of a main particle is 10 times that of a beam particle."
   ]
  },
  {
   "cell_type": "markdown",
   "id": "71a547de-5fd3-438a-9643-174ccbcdca63",
   "metadata": {},
   "source": [
    "# Goal"
   ]
  },
  {
   "cell_type": "markdown",
   "id": "2377bbd9-354f-4796-81e9-3f94ccccf387",
   "metadata": {},
   "source": [
    "We suggest in this section a single run, but you can the play with both `electron` and `main` temperatures to check the results... But the most unstable mode is the one for which $\\gamma(k)$ is maximum. The best way to see this mode is then to have a box length $L_x = 2\\pi/k_{\\max}$. Hence, playing with $T_e$ and/or $T_m$ is not that simple..."
   ]
  },
  {
   "cell_type": "markdown",
   "id": "4003ed16-4811-4523-aca7-7c2b08426c6c",
   "metadata": {},
   "source": [
    "# Run PHARE\n",
    "\n",
    "- Open a terminal (File>New>Terminal)\n",
    "- execute `pwd`, you should see `/home/user/PHARE` indicating you're in the PHARE directory\n",
    "- execute `git clone https://github.com/PHAREHUB/fluid_kinetic_class`\n",
    "- execute `cd fluid_kinetic_class/2024/run/beam/`\n",
    "\n",
    "\n",
    "In there you will see a script called `ib1.py` that will configure a PHARE simulation for you.\\\n",
    "To run it, do:\n",
    "\n",
    "```bash\n",
    "python3 ib1.py\n",
    "```\n",
    "\n",
    "This should run and produce outputs in the directory:\n",
    "\n",
    "- `ib1/`\n",
    "\n",
    "\n",
    "To run the analysis for a specific run you did, execute cells below."
   ]
  },
  {
   "cell_type": "code",
   "execution_count": 13,
   "id": "adf98f47-4ac4-40ce-82e9-2afff2ddace0",
   "metadata": {},
   "outputs": [],
   "source": [
    "path = root_path+\"/\"+\"ib1\"\n",
    "r = Run(path)"
   ]
  },
  {
   "cell_type": "code",
   "execution_count": 14,
   "id": "84e72e22-7de9-4ee3-9376-8aa8e0830229",
   "metadata": {},
   "outputs": [],
   "source": [
    "time=0\n",
    "main = r.GetParticles(time, [\"main\",])"
   ]
  },
  {
   "cell_type": "code",
   "execution_count": 15,
   "id": "59da963a-b0e0-4da9-b9fc-48dfd74bef4b",
   "metadata": {},
   "outputs": [
    {
     "name": "stdout",
     "output_type": "stream",
     "text": [
      "<class 'pyphare.pharesee.hierarchy.PatchHierarchy'>\n"
     ]
    }
   ],
   "source": [
    "print(type(main))"
   ]
  },
  {
   "cell_type": "code",
   "execution_count": 16,
   "id": "5302e2a5-8a5e-46b5-bf7d-8903a806bddf",
   "metadata": {},
   "outputs": [],
   "source": [
    "# zob = main.dist_plot()"
   ]
  },
  {
   "cell_type": "code",
   "execution_count": 17,
   "id": "221287d6-fb04-4a5a-b5fe-b93b8b2d4e19",
   "metadata": {},
   "outputs": [],
   "source": [
    "def new_dist_plot(self, **kwargs):\n",
    "    \"\"\"\n",
    "    plot phase space of a particle hierarchy\n",
    "    \"\"\"\n",
    "    import copy\n",
    "\n",
    "    # from .plotting import dist_plot as dp\n",
    "    from pyphare.pharesee.plotting import dist_plot as dp\n",
    "\n",
    "    usr_lvls = kwargs.get(\"levels\", (0,))\n",
    "    finest = kwargs.get(\"finest\", False)\n",
    "    pops = kwargs.get(\"pop\", [])\n",
    "    time = kwargs.get(\"time\", self.times()[0])\n",
    "    axis = kwargs.get(\"axis\", (\"Vx\", \"Vy\"))\n",
    "    all_pops = list(self.level(0, time).patches[0].patch_datas.keys())\n",
    "\n",
    "    vmin = kwargs.get(\"vmin\", -2)\n",
    "    vmax = kwargs.get(\"vmax\", 2)\n",
    "    dv = kwargs.get(\"dv\", 0.05)\n",
    "    vbins = vmin + dv * np.arange(int((vmax - vmin) / dv))\n",
    "\n",
    "    if finest:\n",
    "        final = finest_part_data(self)\n",
    "        if axis[0] == \"x\":\n",
    "            xbins = amr_grid(self, time)\n",
    "            bins = (xbins, vbins)\n",
    "        else:\n",
    "            bins = (vbins, vbins)\n",
    "        kwargs[\"bins\"] = bins\n",
    "\n",
    "    else:\n",
    "        final = {pop: None for pop in all_pops}\n",
    "        for lvl_nbr, level in self.levels(time).items():\n",
    "            if lvl_nbr not in usr_lvls:\n",
    "                continue\n",
    "            for ip, patch in enumerate(level.patches):\n",
    "                if len(pops) == 0:\n",
    "                    pops = list(patch.patch_datas.keys())\n",
    "\n",
    "                for pop in pops:\n",
    "                    tmp = copy.copy(patch.patch_datas[pop].dataset)\n",
    "\n",
    "                    if final[pop] is None:\n",
    "                        final[pop] = tmp\n",
    "                    else:\n",
    "                        final[pop].add(tmp)\n",
    "\n",
    "    # select particles\n",
    "    if \"select\" in kwargs:\n",
    "        for pop, particles in final.items():\n",
    "            final[pop] = kwargs[\"select\"](particles)\n",
    "\n",
    "    return final, dp(final, **kwargs)"
   ]
  },
  {
   "cell_type": "code",
   "execution_count": 18,
   "id": "1a45915a-9724-41a1-aafc-e69e18a22a24",
   "metadata": {},
   "outputs": [
    {
     "data": {
      "application/vnd.jupyter.widget-view+json": {
       "model_id": "58c2267633ae45f7b3d61fe50d316dbd",
       "version_major": 2,
       "version_minor": 0
      },
      "image/png": "[encoded data removed]",
      "text/html": [
       "\n",
       "            <div style=\"display: inline-block;\">\n",
       "                <div class=\"jupyter-widgets widget-label\" style=\"text-align: center;\">\n",
       "                    Figure\n",
       "                </div>\n",
       "                <img src='data:image/png;base64,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' width=640.0/>\n",
       "            </div>\n",
       "        "
      ],
      "text/plain": [
       "Canvas(toolbar=Toolbar(toolitems=[('Home', 'Reset original view', 'home', 'home'), ('Back', 'Back to previous …"
      ]
     },
     "metadata": {},
     "output_type": "display_data"
    }
   ],
   "source": [
    "zob = new_dist_plot(main, axis=(\"x\", \"Vx\"))"
   ]
  },
  {
   "cell_type": "markdown",
   "id": "ac1578f9-f4d3-46b6-9aff-cade8c618c25",
   "metadata": {},
   "source": [
    "# Electromagnetic case"
   ]
  },
  {
   "cell_type": "code",
   "execution_count": 21,
   "id": "43d8b0f4-17ba-477c-97d3-49fc1988fdeb",
   "metadata": {},
   "outputs": [],
   "source": [
    "time=0\n",
    "all_part = r.GetParticles(time, [\"main\", \"beam\"])"
   ]
  },
  {
   "cell_type": "code",
   "execution_count": 20,
   "id": "25044d53-63dd-437d-be7b-1990b60d47ea",
   "metadata": {},
   "outputs": [
    {
     "ename": "AttributeError",
     "evalue": "'builtin_function_or_method' object has no attribute 'times'",
     "output_type": "error",
     "traceback": [
      "\u001b[0;31m---------------------------------------------------------------------------\u001b[0m",
      "\u001b[0;31mAttributeError\u001b[0m                            Traceback (most recent call last)",
      "Cell \u001b[0;32mIn[20], line 1\u001b[0m\n\u001b[0;32m----> 1\u001b[0m sp_all \u001b[38;5;241m=\u001b[39m \u001b[43mnew_dist_plot\u001b[49m\u001b[43m(\u001b[49m\u001b[38;5;28;43mall\u001b[39;49m\u001b[43m,\u001b[49m\u001b[43m \u001b[49m\u001b[43maxis\u001b[49m\u001b[38;5;241;43m=\u001b[39;49m\u001b[43m(\u001b[49m\u001b[38;5;124;43m\"\u001b[39;49m\u001b[38;5;124;43mx\u001b[39;49m\u001b[38;5;124;43m\"\u001b[39;49m\u001b[43m,\u001b[49m\u001b[43m \u001b[49m\u001b[38;5;124;43m\"\u001b[39;49m\u001b[38;5;124;43mVx\u001b[39;49m\u001b[38;5;124;43m\"\u001b[39;49m\u001b[43m)\u001b[49m\u001b[43m,\u001b[49m\u001b[43m \u001b[49m\u001b[43mplot_type\u001b[49m\u001b[38;5;241;43m=\u001b[39;49m\u001b[38;5;124;43m\"\u001b[39;49m\u001b[38;5;124;43mscatter\u001b[39;49m\u001b[38;5;124;43m\"\u001b[39;49m\u001b[43m,\u001b[49m\u001b[43m \u001b[49m\u001b[43mcmap\u001b[49m\u001b[38;5;241;43m=\u001b[39;49m\u001b[38;5;124;43m\"\u001b[39;49m\u001b[38;5;124;43mviridis_r\u001b[39;49m\u001b[38;5;124;43m\"\u001b[39;49m\u001b[43m)\u001b[49m\n",
      "Cell \u001b[0;32mIn[17], line 13\u001b[0m, in \u001b[0;36mnew_dist_plot\u001b[0;34m(self, **kwargs)\u001b[0m\n\u001b[1;32m     11\u001b[0m finest \u001b[38;5;241m=\u001b[39m kwargs\u001b[38;5;241m.\u001b[39mget(\u001b[38;5;124m\"\u001b[39m\u001b[38;5;124mfinest\u001b[39m\u001b[38;5;124m\"\u001b[39m, \u001b[38;5;28;01mFalse\u001b[39;00m)\n\u001b[1;32m     12\u001b[0m pops \u001b[38;5;241m=\u001b[39m kwargs\u001b[38;5;241m.\u001b[39mget(\u001b[38;5;124m\"\u001b[39m\u001b[38;5;124mpop\u001b[39m\u001b[38;5;124m\"\u001b[39m, [])\n\u001b[0;32m---> 13\u001b[0m time \u001b[38;5;241m=\u001b[39m kwargs\u001b[38;5;241m.\u001b[39mget(\u001b[38;5;124m\"\u001b[39m\u001b[38;5;124mtime\u001b[39m\u001b[38;5;124m\"\u001b[39m, \u001b[38;5;28;43mself\u001b[39;49m\u001b[38;5;241;43m.\u001b[39;49m\u001b[43mtimes\u001b[49m()[\u001b[38;5;241m0\u001b[39m])\n\u001b[1;32m     14\u001b[0m axis \u001b[38;5;241m=\u001b[39m kwargs\u001b[38;5;241m.\u001b[39mget(\u001b[38;5;124m\"\u001b[39m\u001b[38;5;124maxis\u001b[39m\u001b[38;5;124m\"\u001b[39m, (\u001b[38;5;124m\"\u001b[39m\u001b[38;5;124mVx\u001b[39m\u001b[38;5;124m\"\u001b[39m, \u001b[38;5;124m\"\u001b[39m\u001b[38;5;124mVy\u001b[39m\u001b[38;5;124m\"\u001b[39m))\n\u001b[1;32m     15\u001b[0m all_pops \u001b[38;5;241m=\u001b[39m \u001b[38;5;28mlist\u001b[39m(\u001b[38;5;28mself\u001b[39m\u001b[38;5;241m.\u001b[39mlevel(\u001b[38;5;241m0\u001b[39m, time)\u001b[38;5;241m.\u001b[39mpatches[\u001b[38;5;241m0\u001b[39m]\u001b[38;5;241m.\u001b[39mpatch_datas\u001b[38;5;241m.\u001b[39mkeys())\n",
      "\u001b[0;31mAttributeError\u001b[0m: 'builtin_function_or_method' object has no attribute 'times'"
     ]
    }
   ],
   "source": [
    "sp_all = new_dist_plot(all_part, axis=(\"x\", \"Vx\"), plot_type=\"scatter\", cmap=\"viridis_r\")"
   ]
  },
  {
   "cell_type": "code",
   "execution_count": null,
   "id": "51111ffc-9a49-4f7e-a796-965d6ea998fe",
   "metadata": {},
   "outputs": [],
   "source": []
  }
 ],
 "metadata": {
  "kernelspec": {
   "display_name": "venv_kernel",
   "language": "python",
   "name": "venv_kernel"
  },
  "language_info": {
   "codemirror_mode": {
    "name": "ipython",
    "version": 3
   },
   "file_extension": ".py",
   "mimetype": "text/x-python",
   "name": "python",
   "nbconvert_exporter": "python",
   "pygments_lexer": "ipython3",
   "version": "3.9.2"
  }
 },
 "nbformat": 4,
 "nbformat_minor": 5
}
